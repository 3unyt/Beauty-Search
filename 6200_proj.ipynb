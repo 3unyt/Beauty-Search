{
 "metadata": {
  "language_info": {
   "codemirror_mode": {
    "name": "ipython",
    "version": 3
   },
   "file_extension": ".py",
   "mimetype": "text/x-python",
   "name": "python",
   "nbconvert_exporter": "python",
   "pygments_lexer": "ipython3",
   "version": "3.7.7-final"
  },
  "orig_nbformat": 2,
  "kernelspec": {
   "name": "python3",
   "display_name": "Python 3.7.7 64-bit",
   "metadata": {
    "interpreter": {
     "hash": "aa67672aaa266fe9f55cd431d8d34bde44c0f27eb12b844cbbd82ee0033bca62"
    }
   }
  }
 },
 "nbformat": 4,
 "nbformat_minor": 2,
 "cells": [
  {
   "cell_type": "code",
   "execution_count": 2,
   "metadata": {},
   "outputs": [],
   "source": [
    "from elasticsearch import Elasticsearch\n",
    "import xmltodict\n",
    "import pandas as pd"
   ]
  },
  {
   "cell_type": "code",
   "execution_count": 3,
   "metadata": {},
   "outputs": [],
   "source": [
    "df = pd.read_csv(\"./data/sephora_website_dataset.csv\")"
   ]
  },
  {
   "cell_type": "code",
   "execution_count": 4,
   "metadata": {},
   "outputs": [
    {
     "output_type": "execute_result",
     "data": {
      "text/plain": [
       "        id           brand   category                            name  \\\n",
       "0  2218774  Acqua Di Parma  Fragrance  Blu Mediterraneo MINIATURE Set   \n",
       "1  2044816  Acqua Di Parma    Cologne                         Colonia   \n",
       "2  1417567  Acqua Di Parma    Perfume                Arancia di Capri   \n",
       "3  1417617  Acqua Di Parma    Perfume                Mirto di Panarea   \n",
       "4  2218766  Acqua Di Parma  Fragrance           Colonia Miniature Set   \n",
       "\n",
       "             size  rating  number_of_reviews  love  price  value_price  ...  \\\n",
       "0  5 x 0.16oz/5mL     4.0                  4  3002   66.0         75.0  ...   \n",
       "1   0.7 oz/ 20 mL     4.5                 76  2700   66.0         66.0  ...   \n",
       "2    5 oz/ 148 mL     4.5                 26  2600  180.0        180.0  ...   \n",
       "3   2.5 oz/ 74 mL     4.5                 23  2900  120.0        120.0  ...   \n",
       "4  5 x 0.16oz/5mL     3.5                  2   943   72.0         80.0  ...   \n",
       "\n",
       "  MarketingFlags  MarketingFlags_content  \\\n",
       "0           True             online only   \n",
       "1           True             online only   \n",
       "2           True             online only   \n",
       "3           True             online only   \n",
       "4           True             online only   \n",
       "\n",
       "                                             options  \\\n",
       "0                                         no options   \n",
       "1   - 0.7 oz/ 20 mL  Spray  - 1.7 oz/ 50 mL Eau d...   \n",
       "2   - 1oz/30mL Eau de Toilette  - 2.5 oz/ 74 mL E...   \n",
       "3   - 1 oz/ 30 mL Eau de Toilette Spray - 2.5 oz/...   \n",
       "4                                         no options   \n",
       "\n",
       "                                             details  \\\n",
       "0  This enchanting set comes in a specially handc...   \n",
       "1  An elegant timeless scent filled with a fresh-...   \n",
       "2  Fragrance Family: Fresh Scent Type: Fresh Citr...   \n",
       "3  Panarea near Sicily is an an island suspended ...   \n",
       "4  The Colonia Miniature Set comes in an iconic A...   \n",
       "\n",
       "                                          how_to_use  \\\n",
       "0  Suggested Usage:-Fragrance is intensified by t...   \n",
       "1                                    no instructions   \n",
       "2                                    no instructions   \n",
       "3                                    no instructions   \n",
       "4  Suggested Usage:-Fragrance is intensified by t...   \n",
       "\n",
       "                                         ingredients online_only  exclusive  \\\n",
       "0  Arancia di Capri Eau de Toilette: Alcohol Dena...           1          0   \n",
       "1                                            unknown           1          0   \n",
       "2  Alcohol Denat.- Water- Fragrance- Limonene- Li...           1          0   \n",
       "3                                            unknown           1          0   \n",
       "4  Colonia: Alcohol Denat.- Water- Fragrance- Lim...           1          0   \n",
       "\n",
       "   limited_edition  limited_time_offer  \n",
       "0                0                   0  \n",
       "1                0                   0  \n",
       "2                0                   0  \n",
       "3                0                   0  \n",
       "4                0                   0  \n",
       "\n",
       "[5 rows x 21 columns]"
      ],
      "text/html": "<div>\n<style scoped>\n    .dataframe tbody tr th:only-of-type {\n        vertical-align: middle;\n    }\n\n    .dataframe tbody tr th {\n        vertical-align: top;\n    }\n\n    .dataframe thead th {\n        text-align: right;\n    }\n</style>\n<table border=\"1\" class=\"dataframe\">\n  <thead>\n    <tr style=\"text-align: right;\">\n      <th></th>\n      <th>id</th>\n      <th>brand</th>\n      <th>category</th>\n      <th>name</th>\n      <th>size</th>\n      <th>rating</th>\n      <th>number_of_reviews</th>\n      <th>love</th>\n      <th>price</th>\n      <th>value_price</th>\n      <th>...</th>\n      <th>MarketingFlags</th>\n      <th>MarketingFlags_content</th>\n      <th>options</th>\n      <th>details</th>\n      <th>how_to_use</th>\n      <th>ingredients</th>\n      <th>online_only</th>\n      <th>exclusive</th>\n      <th>limited_edition</th>\n      <th>limited_time_offer</th>\n    </tr>\n  </thead>\n  <tbody>\n    <tr>\n      <th>0</th>\n      <td>2218774</td>\n      <td>Acqua Di Parma</td>\n      <td>Fragrance</td>\n      <td>Blu Mediterraneo MINIATURE Set</td>\n      <td>5 x 0.16oz/5mL</td>\n      <td>4.0</td>\n      <td>4</td>\n      <td>3002</td>\n      <td>66.0</td>\n      <td>75.0</td>\n      <td>...</td>\n      <td>True</td>\n      <td>online only</td>\n      <td>no options</td>\n      <td>This enchanting set comes in a specially handc...</td>\n      <td>Suggested Usage:-Fragrance is intensified by t...</td>\n      <td>Arancia di Capri Eau de Toilette: Alcohol Dena...</td>\n      <td>1</td>\n      <td>0</td>\n      <td>0</td>\n      <td>0</td>\n    </tr>\n    <tr>\n      <th>1</th>\n      <td>2044816</td>\n      <td>Acqua Di Parma</td>\n      <td>Cologne</td>\n      <td>Colonia</td>\n      <td>0.7 oz/ 20 mL</td>\n      <td>4.5</td>\n      <td>76</td>\n      <td>2700</td>\n      <td>66.0</td>\n      <td>66.0</td>\n      <td>...</td>\n      <td>True</td>\n      <td>online only</td>\n      <td>- 0.7 oz/ 20 mL  Spray  - 1.7 oz/ 50 mL Eau d...</td>\n      <td>An elegant timeless scent filled with a fresh-...</td>\n      <td>no instructions</td>\n      <td>unknown</td>\n      <td>1</td>\n      <td>0</td>\n      <td>0</td>\n      <td>0</td>\n    </tr>\n    <tr>\n      <th>2</th>\n      <td>1417567</td>\n      <td>Acqua Di Parma</td>\n      <td>Perfume</td>\n      <td>Arancia di Capri</td>\n      <td>5 oz/ 148 mL</td>\n      <td>4.5</td>\n      <td>26</td>\n      <td>2600</td>\n      <td>180.0</td>\n      <td>180.0</td>\n      <td>...</td>\n      <td>True</td>\n      <td>online only</td>\n      <td>- 1oz/30mL Eau de Toilette  - 2.5 oz/ 74 mL E...</td>\n      <td>Fragrance Family: Fresh Scent Type: Fresh Citr...</td>\n      <td>no instructions</td>\n      <td>Alcohol Denat.- Water- Fragrance- Limonene- Li...</td>\n      <td>1</td>\n      <td>0</td>\n      <td>0</td>\n      <td>0</td>\n    </tr>\n    <tr>\n      <th>3</th>\n      <td>1417617</td>\n      <td>Acqua Di Parma</td>\n      <td>Perfume</td>\n      <td>Mirto di Panarea</td>\n      <td>2.5 oz/ 74 mL</td>\n      <td>4.5</td>\n      <td>23</td>\n      <td>2900</td>\n      <td>120.0</td>\n      <td>120.0</td>\n      <td>...</td>\n      <td>True</td>\n      <td>online only</td>\n      <td>- 1 oz/ 30 mL Eau de Toilette Spray - 2.5 oz/...</td>\n      <td>Panarea near Sicily is an an island suspended ...</td>\n      <td>no instructions</td>\n      <td>unknown</td>\n      <td>1</td>\n      <td>0</td>\n      <td>0</td>\n      <td>0</td>\n    </tr>\n    <tr>\n      <th>4</th>\n      <td>2218766</td>\n      <td>Acqua Di Parma</td>\n      <td>Fragrance</td>\n      <td>Colonia Miniature Set</td>\n      <td>5 x 0.16oz/5mL</td>\n      <td>3.5</td>\n      <td>2</td>\n      <td>943</td>\n      <td>72.0</td>\n      <td>80.0</td>\n      <td>...</td>\n      <td>True</td>\n      <td>online only</td>\n      <td>no options</td>\n      <td>The Colonia Miniature Set comes in an iconic A...</td>\n      <td>Suggested Usage:-Fragrance is intensified by t...</td>\n      <td>Colonia: Alcohol Denat.- Water- Fragrance- Lim...</td>\n      <td>1</td>\n      <td>0</td>\n      <td>0</td>\n      <td>0</td>\n    </tr>\n  </tbody>\n</table>\n<p>5 rows × 21 columns</p>\n</div>"
     },
     "metadata": {},
     "execution_count": 4
    }
   ],
   "source": [
    "df.head()"
   ]
  },
  {
   "cell_type": "code",
   "execution_count": 11,
   "metadata": {},
   "outputs": [
    {
     "output_type": "execute_result",
     "data": {
      "text/plain": [
       "Index(['id', 'brand', 'category', 'name', 'size', 'rating',\n",
       "       'number_of_reviews', 'love', 'price', 'value_price', 'URL',\n",
       "       'MarketingFlags', 'MarketingFlags_content', 'options', 'details',\n",
       "       'how_to_use', 'ingredients', 'online_only', 'exclusive',\n",
       "       'limited_edition', 'limited_time_offer'],\n",
       "      dtype='object')"
      ]
     },
     "metadata": {},
     "execution_count": 11
    }
   ],
   "source": [
    "df.columns"
   ]
  },
  {
   "cell_type": "code",
   "execution_count": 5,
   "metadata": {},
   "outputs": [],
   "source": [
    "select = ['id', 'brand', 'category', 'name', 'size', 'rating',\n",
    "       'number_of_reviews', 'love', 'price', 'URL', 'details',\n",
    "       'how_to_use', 'ingredients']\n",
    "df = df[select]"
   ]
  },
  {
   "cell_type": "code",
   "execution_count": 6,
   "metadata": {},
   "outputs": [],
   "source": [
    "df[\"body\"] = (df.brand + \" \" + df.name + \" \"+ df.details +\" \"+ df.how_to_use)"
   ]
  },
  {
   "cell_type": "code",
   "execution_count": 8,
   "metadata": {},
   "outputs": [
    {
     "output_type": "execute_result",
     "data": {
      "text/plain": [
       "        id           brand   category                            name  \\\n",
       "0  2218774  Acqua Di Parma  Fragrance  Blu Mediterraneo MINIATURE Set   \n",
       "1  2044816  Acqua Di Parma    Cologne                         Colonia   \n",
       "2  1417567  Acqua Di Parma    Perfume                Arancia di Capri   \n",
       "3  1417617  Acqua Di Parma    Perfume                Mirto di Panarea   \n",
       "4  2218766  Acqua Di Parma  Fragrance           Colonia Miniature Set   \n",
       "\n",
       "             size  rating  number_of_reviews  love  price  \\\n",
       "0  5 x 0.16oz/5mL     4.0                  4  3002   66.0   \n",
       "1   0.7 oz/ 20 mL     4.5                 76  2700   66.0   \n",
       "2    5 oz/ 148 mL     4.5                 26  2600  180.0   \n",
       "3   2.5 oz/ 74 mL     4.5                 23  2900  120.0   \n",
       "4  5 x 0.16oz/5mL     3.5                  2   943   72.0   \n",
       "\n",
       "                                                 URL  \\\n",
       "0  https://www.sephora.com/product/blu-mediterran...   \n",
       "1  https://www.sephora.com/product/colonia-P16360...   \n",
       "2  https://www.sephora.com/product/blu-mediterran...   \n",
       "3  https://www.sephora.com/product/blu-mediterran...   \n",
       "4  https://www.sephora.com/product/colonia-miniat...   \n",
       "\n",
       "                                             details  \\\n",
       "0  This enchanting set comes in a specially handc...   \n",
       "1  An elegant timeless scent filled with a fresh-...   \n",
       "2  Fragrance Family: Fresh Scent Type: Fresh Citr...   \n",
       "3  Panarea near Sicily is an an island suspended ...   \n",
       "4  The Colonia Miniature Set comes in an iconic A...   \n",
       "\n",
       "                                          how_to_use  \\\n",
       "0  Suggested Usage:-Fragrance is intensified by t...   \n",
       "1                                    no instructions   \n",
       "2                                    no instructions   \n",
       "3                                    no instructions   \n",
       "4  Suggested Usage:-Fragrance is intensified by t...   \n",
       "\n",
       "                                         ingredients  \\\n",
       "0  Arancia di Capri Eau de Toilette: Alcohol Dena...   \n",
       "1                                            unknown   \n",
       "2  Alcohol Denat.- Water- Fragrance- Limonene- Li...   \n",
       "3                                            unknown   \n",
       "4  Colonia: Alcohol Denat.- Water- Fragrance- Lim...   \n",
       "\n",
       "                                                body  \n",
       "0  Acqua Di Parma Blu Mediterraneo MINIATURE Set ...  \n",
       "1  Acqua Di Parma Colonia An elegant timeless sce...  \n",
       "2  Acqua Di Parma Arancia di Capri Fragrance Fami...  \n",
       "3  Acqua Di Parma Mirto di Panarea Panarea near S...  \n",
       "4  Acqua Di Parma Colonia Miniature Set The Colon...  "
      ],
      "text/html": "<div>\n<style scoped>\n    .dataframe tbody tr th:only-of-type {\n        vertical-align: middle;\n    }\n\n    .dataframe tbody tr th {\n        vertical-align: top;\n    }\n\n    .dataframe thead th {\n        text-align: right;\n    }\n</style>\n<table border=\"1\" class=\"dataframe\">\n  <thead>\n    <tr style=\"text-align: right;\">\n      <th></th>\n      <th>id</th>\n      <th>brand</th>\n      <th>category</th>\n      <th>name</th>\n      <th>size</th>\n      <th>rating</th>\n      <th>number_of_reviews</th>\n      <th>love</th>\n      <th>price</th>\n      <th>URL</th>\n      <th>details</th>\n      <th>how_to_use</th>\n      <th>ingredients</th>\n      <th>body</th>\n    </tr>\n  </thead>\n  <tbody>\n    <tr>\n      <th>0</th>\n      <td>2218774</td>\n      <td>Acqua Di Parma</td>\n      <td>Fragrance</td>\n      <td>Blu Mediterraneo MINIATURE Set</td>\n      <td>5 x 0.16oz/5mL</td>\n      <td>4.0</td>\n      <td>4</td>\n      <td>3002</td>\n      <td>66.0</td>\n      <td>https://www.sephora.com/product/blu-mediterran...</td>\n      <td>This enchanting set comes in a specially handc...</td>\n      <td>Suggested Usage:-Fragrance is intensified by t...</td>\n      <td>Arancia di Capri Eau de Toilette: Alcohol Dena...</td>\n      <td>Acqua Di Parma Blu Mediterraneo MINIATURE Set ...</td>\n    </tr>\n    <tr>\n      <th>1</th>\n      <td>2044816</td>\n      <td>Acqua Di Parma</td>\n      <td>Cologne</td>\n      <td>Colonia</td>\n      <td>0.7 oz/ 20 mL</td>\n      <td>4.5</td>\n      <td>76</td>\n      <td>2700</td>\n      <td>66.0</td>\n      <td>https://www.sephora.com/product/colonia-P16360...</td>\n      <td>An elegant timeless scent filled with a fresh-...</td>\n      <td>no instructions</td>\n      <td>unknown</td>\n      <td>Acqua Di Parma Colonia An elegant timeless sce...</td>\n    </tr>\n    <tr>\n      <th>2</th>\n      <td>1417567</td>\n      <td>Acqua Di Parma</td>\n      <td>Perfume</td>\n      <td>Arancia di Capri</td>\n      <td>5 oz/ 148 mL</td>\n      <td>4.5</td>\n      <td>26</td>\n      <td>2600</td>\n      <td>180.0</td>\n      <td>https://www.sephora.com/product/blu-mediterran...</td>\n      <td>Fragrance Family: Fresh Scent Type: Fresh Citr...</td>\n      <td>no instructions</td>\n      <td>Alcohol Denat.- Water- Fragrance- Limonene- Li...</td>\n      <td>Acqua Di Parma Arancia di Capri Fragrance Fami...</td>\n    </tr>\n    <tr>\n      <th>3</th>\n      <td>1417617</td>\n      <td>Acqua Di Parma</td>\n      <td>Perfume</td>\n      <td>Mirto di Panarea</td>\n      <td>2.5 oz/ 74 mL</td>\n      <td>4.5</td>\n      <td>23</td>\n      <td>2900</td>\n      <td>120.0</td>\n      <td>https://www.sephora.com/product/blu-mediterran...</td>\n      <td>Panarea near Sicily is an an island suspended ...</td>\n      <td>no instructions</td>\n      <td>unknown</td>\n      <td>Acqua Di Parma Mirto di Panarea Panarea near S...</td>\n    </tr>\n    <tr>\n      <th>4</th>\n      <td>2218766</td>\n      <td>Acqua Di Parma</td>\n      <td>Fragrance</td>\n      <td>Colonia Miniature Set</td>\n      <td>5 x 0.16oz/5mL</td>\n      <td>3.5</td>\n      <td>2</td>\n      <td>943</td>\n      <td>72.0</td>\n      <td>https://www.sephora.com/product/colonia-miniat...</td>\n      <td>The Colonia Miniature Set comes in an iconic A...</td>\n      <td>Suggested Usage:-Fragrance is intensified by t...</td>\n      <td>Colonia: Alcohol Denat.- Water- Fragrance- Lim...</td>\n      <td>Acqua Di Parma Colonia Miniature Set The Colon...</td>\n    </tr>\n  </tbody>\n</table>\n</div>"
     },
     "metadata": {},
     "execution_count": 8
    }
   ],
   "source": [
    "df.head()"
   ]
  },
  {
   "cell_type": "code",
   "execution_count": 57,
   "metadata": {},
   "outputs": [
    {
     "output_type": "execute_result",
     "data": {
      "text/plain": [
       "array(['Fragrance', 'Cologne', 'Perfume', 'Body Mist & Hair Mist',\n",
       "       'Body Lotions & Body Oils', 'Body Sprays & Deodorant',\n",
       "       'Perfume Gift Sets', 'no category', 'Rollerballs & Travel Size',\n",
       "       'Lip Balm & Treatment', 'Lotions & Oils', 'Eye Palettes',\n",
       "       'Highlighter', 'Cheek Palettes', 'Lipstick', 'Face Serums',\n",
       "       'Moisturizers', 'Value & Gift Sets', 'Eye Creams & Treatments',\n",
       "       'Face Sunscreen', 'Lip Balms & Treatments', 'Mini Size',\n",
       "       'Face Masks', 'Face Wash & Cleansers', 'Decollete & Neck Creams',\n",
       "       'Face Oils', 'Hand Cream & Foot Cream', 'Face Primer',\n",
       "       'Color Correct', 'Mists & Essences', 'Tinted Moisturizer',\n",
       "       'Concealer', 'Beauty Supplements', 'Facial Peels', 'Exfoliators',\n",
       "       'Conditioner', 'Shampoo', 'Hair Styling Products',\n",
       "       'Scalp & Hair Treatments', 'Hair Masks', 'Hair Spray', 'Hair Oil',\n",
       "       'Hair Primers', 'Dry Shampoo', 'Hair', 'Hair Thinning & Hair Loss',\n",
       "       'Hair Straighteners & Flat Irons', 'Hair Dryers', 'Color Care',\n",
       "       'Curling Irons', 'BB & CC Cream', 'Toners', 'Sheet Masks',\n",
       "       'Skincare', 'Body Sunscreen', 'Eyebrow', 'Mascara', 'Foundation',\n",
       "       'Eye Brushes', 'Setting Spray & Powder', 'Contour',\n",
       "       'Tweezers & Eyebrow Tools', 'Eyeshadow', 'Lip Gloss',\n",
       "       'False Eyelashes', 'Bronzer', 'Eyeliner', 'Eye Primer', 'Eye Sets',\n",
       "       'Face Brushes', 'Sponges & Applicators', 'Mirrors & Sharpeners',\n",
       "       'Face Wash', 'Body Products', 'Skincare Sets', 'Shaving',\n",
       "       'Moisturizer & Treatments', 'Aftershave', 'Eye Cream', 'Sunscreen',\n",
       "       'Blush', 'Hair Accessories', 'Liquid Lipstick', 'Makeup',\n",
       "       'Bath & Shower', 'Cologne Gift Sets', 'Brush Sets',\n",
       "       'Brush Cleaners', 'Lip Brushes', 'Candles & Home Scents',\n",
       "       'Face Sets', 'Lip Liner', 'Anti-Aging', 'Facial Rollers',\n",
       "       'Eye Masks', 'Face Wipes', 'Makeup & Travel Cases', 'Night Creams',\n",
       "       'Lip Stain', 'Lip Sets', 'Hair Brushes & Combs',\n",
       "       'Deodorant & Antiperspirant', 'Holistic Wellness',\n",
       "       'Makeup Removers', 'Blotting Papers', 'Blemish & Acne Treatments',\n",
       "       'Leave-In Conditioner', 'Candles', 'Scrub & Exfoliants',\n",
       "       'Cellulite & Stretch Marks', 'Nail', 'Hair Styling & Treatments',\n",
       "       'Lip Plumper', 'For Face', 'For Body', 'Self Tanners',\n",
       "       'Facial Cleansing Brushes', 'Cleansing Brushes', 'BB & CC Creams',\n",
       "       'Curls & Coils', 'Makeup Palettes', 'Eyelash Curlers',\n",
       "       'Body Wash & Shower Gel', 'Makeup Bags & Travel Cases',\n",
       "       'Teeth Whitening', 'Bath Soaks & Bubble Bath', 'High Tech Tools',\n",
       "       'Shampoo & Conditioner', 'Bath & Body', 'Hair Products',\n",
       "       'Diffusers', 'Deodorant for Men', 'After Sun Care',\n",
       "       'Lip Sunscreen', 'Wellness', 'Hair Removal', 'Spa Tools',\n",
       "       'Accessories', 'Body Moisturizers', 'Hair Removal & Shaving',\n",
       "       'Lip Treatments', 'Powder Brush', 'Lid Shadow Brush'], dtype=object)"
      ]
     },
     "metadata": {},
     "execution_count": 57
    }
   ],
   "source": [
    "df.category.unique()"
   ]
  },
  {
   "cell_type": "code",
   "execution_count": 11,
   "metadata": {},
   "outputs": [],
   "source": [
    "es = Elasticsearch()"
   ]
  },
  {
   "cell_type": "code",
   "execution_count": 15,
   "metadata": {},
   "outputs": [],
   "source": [
    "def index_sephora(df):\n",
    "    if es.indices.exists(index='sephora'):\n",
    "        print(\"Index 'sephora' already exists, skip indexing.\")\n",
    "        return\n",
    "    for i in range(df.shape[0]):\n",
    "        product_id = df.iloc[i].id\n",
    "        body = {\n",
    "            \"brand\": df.iloc[i].brand,\n",
    "            \"category\": df.iloc[i].category,\n",
    "            \"name\": df.iloc[i][\"name\"],\n",
    "            \"rating\": df.iloc[i].rating,\n",
    "            \"love\": df.iloc[i].love,\n",
    "            \"price\": df.iloc[i].price,\n",
    "            \"url\": df.iloc[i].URL,\n",
    "            \"details\": df.iloc[i].body,\n",
    "            \"ingredients\": df.iloc[i].ingredients\n",
    "            }\n",
    "        res = es.index(index='sephora', id=product_id, body=body)\n",
    "        "
   ]
  },
  {
   "cell_type": "code",
   "execution_count": 16,
   "metadata": {},
   "outputs": [],
   "source": [
    "index_sephora(df)"
   ]
  },
  {
   "cell_type": "code",
   "execution_count": 9,
   "metadata": {},
   "outputs": [
    {
     "output_type": "execute_result",
     "data": {
      "text/plain": [
       "'Cipresso di Toscana'"
      ]
     },
     "metadata": {},
     "execution_count": 9
    }
   ],
   "source": [
    "df.iloc[10][\"name\"]"
   ]
  },
  {
   "cell_type": "code",
   "execution_count": 13,
   "metadata": {},
   "outputs": [
    {
     "output_type": "execute_result",
     "data": {
      "text/plain": [
       "False"
      ]
     },
     "metadata": {},
     "execution_count": 13
    }
   ],
   "source": [
    "# es.indices.delete(index=\"sephora\")\n",
    "es.indices.exists(index='sephora')"
   ]
  },
  {
   "cell_type": "code",
   "execution_count": 18,
   "metadata": {},
   "outputs": [
    {
     "output_type": "execute_result",
     "data": {
      "text/plain": [
       "{'brand': \"Kiehl's Since 1851\",\n",
       " 'category': 'Toners',\n",
       " 'name': 'Cucumber Herbal Alcohol-Free Toner',\n",
       " 'rating': 4.0,\n",
       " 'love': 6600,\n",
       " 'price': 18.0,\n",
       " 'url': 'https://www.sephora.com/product/cucumber-herbal-alcohol-free-toner-P422250?icid2=products grid:p422250',\n",
       " 'details': \"Kiehl's Since 1851 Cucumber Herbal Alcohol-Free Toner What it is:  An ultra-mild toner infused with herbal extracts to soothe dry and sensitive skin.Skin Type: Dry Skincare Concerns: Dryness and RednessFormulation: Lightweight LiquidHighlighted Ingredients:- Cucumber Extract and Allantoin: Soothes sensitive skin. Ingredient Callouts: Free of parabens. This product also comes in recyclable packaging. What Else You Need to Know:  This mild toner- that is formulated with cucumber extract- is ideal for dry and sensitive skin. Non-drying and alcohol-free- it leaves skin feeling clean and comfortable. An essential part of a complete face skincare system- this toner preps skin for moisturizers and face serums after your face cleanser. Suggested Usage:-After cleansing- dispense toner onto a cotton pad.-Smooth over dry- clean skin- avoiding the eye area.\",\n",
       " 'ingredients': '-Cucumber Extract and Allantoin: Soothes sensitive skin.  Aqua/Water- Pentylene Glycol- Phenoxyethanol- Propylene Glycol- Sodium PCA- Methylparaben- Allantoin- Cucumis Sativus Fruit Extract/Cucumber Fruit Extract- Aloe Barbadensis/Aloe Barbadensis Leaf Juice- Camphor- Chamomilla Recutita Extract/Matricaria Flower Extract- Urtica Dioica/Nettle Extract- Equisetum Arvense Extract- Betula Alba Extract- CI 19140/Yellow 5- CI 14700/Red 4- CI 42090/Blue 1.'}"
      ]
     },
     "metadata": {},
     "execution_count": 18
    }
   ],
   "source": [
    "res = es.get(index=\"sephora\", id=1988716)\n",
    "source = res[\"_source\"]\n",
    "source"
   ]
  },
  {
   "cell_type": "code",
   "execution_count": 41,
   "metadata": {},
   "outputs": [],
   "source": [
    "def search_query(query, size, param):\n",
    "    body = {\n",
    "        \"from\":0,\n",
    "        \"size\": size,\n",
    "        \"query\": {\n",
    "            \"match\": {\n",
    "                param:query\n",
    "            }\n",
    "        }\n",
    "    }\n",
    "\n",
    "    res = es.search(index=\"sephora\", body=body)\n",
    "    print(\"Top\", size, \"results for query:\", query )\n",
    "    ids = []\n",
    "    scores = []\n",
    "    for hit in res['hits']['hits']:\n",
    "        i, score = hit['_id'], hit['_score']\n",
    "        product = \" | \".join(df[df.id==int(i)][[\"brand\",\"name\"]].values[0])\n",
    "        # name = type(i)\n",
    "        ids.append(i)\n",
    "        scores.append(score)\n",
    "        print(i, score, product, sep=\"\\t\")\n",
    "        \n",
    "    return ids, scores"
   ]
  },
  {
   "cell_type": "code",
   "execution_count": 53,
   "metadata": {},
   "outputs": [
    {
     "output_type": "stream",
     "name": "stdout",
     "text": [
      "Top 10 results for query: skincare for dry skin\n1988716\t4.930148\tKiehl's Since 1851 | Cucumber Herbal Alcohol-Free Toner\n1988682\t4.6511035\tKiehl's Since 1851 | Calendula Herbal Extract Alcohol Free Toner\n1898535\t4.602146\tphilosophy | Renewed Hope in a Jar Skin Tint\n1989896\t4.573933\tKiehl's Since 1851 | Creme de Corps Mini\n1780915\t4.566028\tBobbi Brown | Instant Detox Hawaiian Sea Water & White Clay Face Mask\n1559061\t4.5315766\tDr. Dennis Gross Skincare | All-In-One Cleanser With Toner\n2024198\t4.505607\tGLAMGLOW | #GLITTERMASK GRAVITYMUD™ Firming Treatment Mask\n2131803\t4.495612\tGlow Recipe | Blueberry Bounce Gentle Cleanser\n2188209\t4.495612\tGlow Recipe | Blueberry Bounce Gentle Cleanser Mini\n2222974\t4.4942727\ttarte | Sea the Hydration Skincare Set\n"
     ]
    }
   ],
   "source": [
    "query = \"skincare for dry skin\"\n",
    "ids, scores = search_query(query, 10, \"details\")"
   ]
  },
  {
   "cell_type": "code",
   "execution_count": 14,
   "metadata": {},
   "outputs": [],
   "source": [
    "kiehls = df[df.id==1988716].ingredients.values[0]"
   ]
  },
  {
   "cell_type": "code",
   "execution_count": 15,
   "metadata": {
    "tags": []
   },
   "outputs": [
    {
     "output_type": "stream",
     "name": "stdout",
     "text": [
      "Top 10 results for query: -Cucumber Extract and Allantoin: Soothes sensitive skin.  Aqua/Water- Pentylene Glycol- Phenoxyethanol- Propylene Glycol- Sodium PCA- Methylparaben- Allantoin- Cucumis Sativus Fruit Extract/Cucumber Fruit Extract- Aloe Barbadensis/Aloe Barbadensis Leaf Juice- Camphor- Chamomilla Recutita Extract/Matricaria Flower Extract- Urtica Dioica/Nettle Extract- Equisetum Arvense Extract- Betula Alba Extract- CI 19140/Yellow 5- CI 14700/Red 4- CI 42090/Blue 1.\n1988716\t196.04395\tKiehl's Since 1851 | Cucumber Herbal Alcohol-Free Toner\n1560879\t96.95177\tPeter Thomas Roth | Cucumber Gel Mask Extreme Detoxifying Hydrator\n1863117\t92.19874\tPeter Thomas Roth | Cucumber De-Tox™ Hydra-Gel Eye Patches\n2185049\t82.61083\tMario Badescu | Facial Spray with Aloe, Cucumber and Green Tea\n2185031\t82.61083\tMario Badescu | Facial Spray with Aloe, Cucumber and Green Tea Mini\n2239978\t82.57647\tPeter Thomas Roth | The A-List Kit\n2322709\t78.55332\tPeter Thomas Roth | Hydration Sensation\n1388859\t78.28665\tNARS | Gentle Oil-Free Eye Makeup Remover\n2273555\t76.87535\tPeter Thomas Roth | Mix, Mask & Hydrate\n2213718\t76.57785\tIT Cosmetics | Confidence In A Cream Rosy Tone\n"
     ]
    }
   ],
   "source": [
    "ids, scores = search_query(kiehls, 10, \"ingredients\")\n"
   ]
  },
  {
   "cell_type": "code",
   "execution_count": 36,
   "metadata": {},
   "outputs": [
    {
     "output_type": "execute_result",
     "data": {
      "text/plain": [
       "'8.4 oz/ 250 mL'"
      ]
     },
     "metadata": {},
     "execution_count": 36
    }
   ],
   "source": [
    "df[df.id==1988716][\"size\"].values[0]"
   ]
  },
  {
   "cell_type": "code",
   "execution_count": 24,
   "metadata": {},
   "outputs": [
    {
     "output_type": "execute_result",
     "data": {
      "text/plain": [
       "212"
      ]
     },
     "metadata": {},
     "execution_count": 24
    }
   ],
   "source": [
    "len(\"Lorem ipsum dolor sit amet, consetetur sadipscing elitr, sed diam nonumy eirmod tempor invidunt ut labore et dolore magna aliquyam erat, sed diam voluptua. At vero eos et accusam et justo duo dolores et ea rebum.\")"
   ]
  },
  {
   "cell_type": "code",
   "execution_count": 58,
   "metadata": {},
   "outputs": [
    {
     "output_type": "stream",
     "name": "stdout",
     "text": [
      "Top 10 results for query: Declustered Water (-)\\Aqua\\Eau De-Structuree (-), Methyl Gluceth-20, Glycereth-26, Laminaria Saccharina Extract, Algae (Seaweed) Extract, Sesamum Indicum (Sesame) Seed Oil, Medicago Sativa (Alfalfa) Seed Powder, Helianthus Annuus (Sunflower) Seedcake, Prunus Amygdalus Dulcis (Sweet Almond) Seed Meal, Eucalyptus Globulus (Eucalyptus) Leaf Oil, Sodium Gluconate, Copper Gluconate, Calcium Gluconate, Magnesium Gluconate, Zinc Gluconate, Tocopheryl Succinate, Niacin, Sesamum Indicum (Sesame) Seed Powder, Butylene Glycol, Ppg-28-Buteth-35, Ppg-5-Ceteth-20, Sodium Hyaluronate, Citric Acid, Sodium Citrate, Polysorbate 20, Sucrose, Caffeine, Disodium Edta, Benzophenone-4, Phenoxyethanol, Potassium Sorbate, Fragrance (Parfum), Linalool, Yellow 5 (Ci 19140), Red 33 (Ci 17200).\n1932383\t298.69925\tLa Mer | The Tonic\n1993815\t255.7589\tLa Mer | The Powder\n2237089\t241.04126\tLa Mer | The Fresh Renewal Collection\n1932391\t230.52519\tLa Mer | The Treatment Lotion\n2048957\t230.52519\tLa Mer | The Treatment Lotion Mini\n1932375\t229.37236\tLa Mer | The Cleansing Micellar Water\n1932359\t217.02327\tLa Mer | The Cleansing Gel\n1932367\t210.62914\tLa Mer | The Cleansing Foam\n2048932\t210.62914\tLa Mer | The Cleansing Foam Mini\n2132132\t206.69727\tLa Mer | Treatment Lotion Hydrating Mask\n"
     ]
    },
    {
     "output_type": "execute_result",
     "data": {
      "text/plain": [
       "(['1932383',\n",
       "  '1993815',\n",
       "  '2237089',\n",
       "  '1932391',\n",
       "  '2048957',\n",
       "  '1932375',\n",
       "  '1932359',\n",
       "  '1932367',\n",
       "  '2048932',\n",
       "  '2132132'],\n",
       " [298.69925,\n",
       "  255.7589,\n",
       "  241.04126,\n",
       "  230.52519,\n",
       "  230.52519,\n",
       "  229.37236,\n",
       "  217.02327,\n",
       "  210.62914,\n",
       "  210.62914,\n",
       "  206.69727])"
      ]
     },
     "metadata": {},
     "execution_count": 58
    }
   ],
   "source": [
    "lamer = \"Declustered Water (-)\\Aqua\\Eau De-Structuree (-), Methyl Gluceth-20, Glycereth-26, Laminaria Saccharina Extract, Algae (Seaweed) Extract, Sesamum Indicum (Sesame) Seed Oil, Medicago Sativa (Alfalfa) Seed Powder, Helianthus Annuus (Sunflower) Seedcake, Prunus Amygdalus Dulcis (Sweet Almond) Seed Meal, Eucalyptus Globulus (Eucalyptus) Leaf Oil, Sodium Gluconate, Copper Gluconate, Calcium Gluconate, Magnesium Gluconate, Zinc Gluconate, Tocopheryl Succinate, Niacin, Sesamum Indicum (Sesame) Seed Powder, Butylene Glycol, Ppg-28-Buteth-35, Ppg-5-Ceteth-20, Sodium Hyaluronate, Citric Acid, Sodium Citrate, Polysorbate 20, Sucrose, Caffeine, Disodium Edta, Benzophenone-4, Phenoxyethanol, Potassium Sorbate, Fragrance (Parfum), Linalool, Yellow 5 (Ci 19140), Red 33 (Ci 17200).\"\n",
    "search_query(lamer, 10, \"ingredients\")"
   ]
  },
  {
   "cell_type": "code",
   "execution_count": 70,
   "metadata": {},
   "outputs": [
    {
     "output_type": "stream",
     "name": "stdout",
     "text": [
      "Top 10 results for query: Declustered Water (-)\\Aqua\\Eau De-Structuree (-), Methyl Gluceth-20, Glycereth-26, Laminaria Saccharina Extract, Algae (Seaweed) Extract, Sesamum Indicum (Sesame) Seed Oil, Medicago Sativa (Alfalfa) Seed Powder, Helianthus Annuus (Sunflower) Seedcake, Prunus Amygdalus Dulcis (Sweet Almond) Seed Meal, Eucalyptus Globulus (Eucalyptus) Leaf Oil, Sodium Gluconate, Copper Gluconate, Calcium Gluconate, Magnesium Gluconate, Zinc Gluconate, Tocopheryl Succinate, Niacin, Sesamum Indicum (Sesame) Seed Powder, Butylene Glycol, Ppg-28-Buteth-35, Ppg-5-Ceteth-20, Sodium Hyaluronate, Citric Acid, Sodium Citrate, Polysorbate 20, Sucrose, Caffeine, Disodium Edta, Benzophenone-4, Phenoxyethanol, Potassium Sorbate, Fragrance (Parfum), Linalool, Yellow 5 (Ci 19140), Red 33 (Ci 17200).\n2028389\t54.309727\tDior | Capture Youth Matte Maximizer Age-Delay Mattifying Serum\n1696673\t50.9148\tBumble and bumble | Hairdresser’s Invisible Oil Shampoo Mini\n1602945\t50.9148\tBumble and bumble | Hairdresser's Invisible Oil Shampoo\n2114544\t49.897102\tREN Clean Skincare | ClearCalm 3 Clarifying Clay Cleanser\n2234961\t49.46124\tBumble and bumble | Hairdresser’s Invisible Oil Minis Kit\n1412592\t47.322403\tHourglass | N° 28 Primer Serum\n1420652\t47.322403\tHourglass | N° 28 Primer Serum Mini\n2158533\t44.5541\tGood Dye Young | Color Kind Conditioner\n2261477\t44.49421\tINC.redible | No Puff Zone Hydrating Hemp Hydrogel Under Eye Mask\n2268449\t43.792526\tFENTY BEAUTY by Rihanna | Pro Filt'r Hydrating Primer\n"
     ]
    },
    {
     "output_type": "execute_result",
     "data": {
      "text/plain": [
       "(['2028389',\n",
       "  '1696673',\n",
       "  '1602945',\n",
       "  '2114544',\n",
       "  '2234961',\n",
       "  '1412592',\n",
       "  '1420652',\n",
       "  '2158533',\n",
       "  '2261477',\n",
       "  '2268449'],\n",
       " [54.309727,\n",
       "  50.9148,\n",
       "  50.9148,\n",
       "  49.897102,\n",
       "  49.46124,\n",
       "  47.322403,\n",
       "  47.322403,\n",
       "  44.5541,\n",
       "  44.49421,\n",
       "  43.792526])"
      ]
     },
     "metadata": {},
     "execution_count": 70
    }
   ],
   "source": [
    "search_query(lamer, 10, \"details\")"
   ]
  },
  {
   "cell_type": "code",
   "execution_count": null,
   "metadata": {},
   "outputs": [],
   "source": []
  }
 ]
}