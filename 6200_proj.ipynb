{
 "metadata": {
  "language_info": {
   "codemirror_mode": {
    "name": "ipython",
    "version": 3
   },
   "file_extension": ".py",
   "mimetype": "text/x-python",
   "name": "python",
   "nbconvert_exporter": "python",
   "pygments_lexer": "ipython3",
   "version": "3.7.7-final"
  },
  "orig_nbformat": 2,
  "kernelspec": {
   "name": "python3",
   "display_name": "Python 3.7.7 64-bit",
   "metadata": {
    "interpreter": {
     "hash": "aa67672aaa266fe9f55cd431d8d34bde44c0f27eb12b844cbbd82ee0033bca62"
    }
   }
  }
 },
 "nbformat": 4,
 "nbformat_minor": 2,
 "cells": [
  {
   "cell_type": "code",
   "execution_count": 2,
   "metadata": {},
   "outputs": [],
   "source": [
    "from elasticsearch import Elasticsearch\n",
    "import xmltodict\n",
    "import pandas as pd"
   ]
  },
  {
   "cell_type": "code",
   "execution_count": 3,
   "metadata": {},
   "outputs": [],
   "source": [
    "df = pd.read_csv(\"./data/sephora_website_dataset.csv\")"
   ]
  },
  {
   "cell_type": "code",
   "execution_count": 44,
   "metadata": {},
   "outputs": [
    {
     "output_type": "execute_result",
     "data": {
      "text/plain": [
       "        id           brand   category                            name  \\\n",
       "0  2218774  Acqua Di Parma  Fragrance  Blu Mediterraneo MINIATURE Set   \n",
       "1  2044816  Acqua Di Parma    Cologne                         Colonia   \n",
       "2  1417567  Acqua Di Parma    Perfume                Arancia di Capri   \n",
       "3  1417617  Acqua Di Parma    Perfume                Mirto di Panarea   \n",
       "4  2218766  Acqua Di Parma  Fragrance           Colonia Miniature Set   \n",
       "\n",
       "             size  rating  number_of_reviews  love  price  \\\n",
       "0  5 x 0.16oz/5mL     4.0                  4  3002   66.0   \n",
       "1   0.7 oz/ 20 mL     4.5                 76  2700   66.0   \n",
       "2    5 oz/ 148 mL     4.5                 26  2600  180.0   \n",
       "3   2.5 oz/ 74 mL     4.5                 23  2900  120.0   \n",
       "4  5 x 0.16oz/5mL     3.5                  2   943   72.0   \n",
       "\n",
       "                                                 URL  \\\n",
       "0  https://www.sephora.com/product/blu-mediterran...   \n",
       "1  https://www.sephora.com/product/colonia-P16360...   \n",
       "2  https://www.sephora.com/product/blu-mediterran...   \n",
       "3  https://www.sephora.com/product/blu-mediterran...   \n",
       "4  https://www.sephora.com/product/colonia-miniat...   \n",
       "\n",
       "                                             details  \\\n",
       "0  This enchanting set comes in a specially handc...   \n",
       "1  An elegant timeless scent filled with a fresh-...   \n",
       "2  Fragrance Family: Fresh Scent Type: Fresh Citr...   \n",
       "3  Panarea near Sicily is an an island suspended ...   \n",
       "4  The Colonia Miniature Set comes in an iconic A...   \n",
       "\n",
       "                                          how_to_use  \\\n",
       "0  Suggested Usage:-Fragrance is intensified by t...   \n",
       "1                                    no instructions   \n",
       "2                                    no instructions   \n",
       "3                                    no instructions   \n",
       "4  Suggested Usage:-Fragrance is intensified by t...   \n",
       "\n",
       "                                         ingredients  \\\n",
       "0  Arancia di Capri Eau de Toilette: Alcohol Dena...   \n",
       "1                                            unknown   \n",
       "2  Alcohol Denat.- Water- Fragrance- Limonene- Li...   \n",
       "3                                            unknown   \n",
       "4  Colonia: Alcohol Denat.- Water- Fragrance- Lim...   \n",
       "\n",
       "                                                body  \n",
       "0  Acqua Di Parma Blu Mediterraneo MINIATURE Set ...  \n",
       "1  Acqua Di Parma Colonia An elegant timeless sce...  \n",
       "2  Acqua Di Parma Arancia di Capri Fragrance Fami...  \n",
       "3  Acqua Di Parma Mirto di Panarea Panarea near S...  \n",
       "4  Acqua Di Parma Colonia Miniature Set The Colon...  "
      ],
      "text/html": "<div>\n<style scoped>\n    .dataframe tbody tr th:only-of-type {\n        vertical-align: middle;\n    }\n\n    .dataframe tbody tr th {\n        vertical-align: top;\n    }\n\n    .dataframe thead th {\n        text-align: right;\n    }\n</style>\n<table border=\"1\" class=\"dataframe\">\n  <thead>\n    <tr style=\"text-align: right;\">\n      <th></th>\n      <th>id</th>\n      <th>brand</th>\n      <th>category</th>\n      <th>name</th>\n      <th>size</th>\n      <th>rating</th>\n      <th>number_of_reviews</th>\n      <th>love</th>\n      <th>price</th>\n      <th>URL</th>\n      <th>details</th>\n      <th>how_to_use</th>\n      <th>ingredients</th>\n      <th>body</th>\n    </tr>\n  </thead>\n  <tbody>\n    <tr>\n      <th>0</th>\n      <td>2218774</td>\n      <td>Acqua Di Parma</td>\n      <td>Fragrance</td>\n      <td>Blu Mediterraneo MINIATURE Set</td>\n      <td>5 x 0.16oz/5mL</td>\n      <td>4.0</td>\n      <td>4</td>\n      <td>3002</td>\n      <td>66.0</td>\n      <td>https://www.sephora.com/product/blu-mediterran...</td>\n      <td>This enchanting set comes in a specially handc...</td>\n      <td>Suggested Usage:-Fragrance is intensified by t...</td>\n      <td>Arancia di Capri Eau de Toilette: Alcohol Dena...</td>\n      <td>Acqua Di Parma Blu Mediterraneo MINIATURE Set ...</td>\n    </tr>\n    <tr>\n      <th>1</th>\n      <td>2044816</td>\n      <td>Acqua Di Parma</td>\n      <td>Cologne</td>\n      <td>Colonia</td>\n      <td>0.7 oz/ 20 mL</td>\n      <td>4.5</td>\n      <td>76</td>\n      <td>2700</td>\n      <td>66.0</td>\n      <td>https://www.sephora.com/product/colonia-P16360...</td>\n      <td>An elegant timeless scent filled with a fresh-...</td>\n      <td>no instructions</td>\n      <td>unknown</td>\n      <td>Acqua Di Parma Colonia An elegant timeless sce...</td>\n    </tr>\n    <tr>\n      <th>2</th>\n      <td>1417567</td>\n      <td>Acqua Di Parma</td>\n      <td>Perfume</td>\n      <td>Arancia di Capri</td>\n      <td>5 oz/ 148 mL</td>\n      <td>4.5</td>\n      <td>26</td>\n      <td>2600</td>\n      <td>180.0</td>\n      <td>https://www.sephora.com/product/blu-mediterran...</td>\n      <td>Fragrance Family: Fresh Scent Type: Fresh Citr...</td>\n      <td>no instructions</td>\n      <td>Alcohol Denat.- Water- Fragrance- Limonene- Li...</td>\n      <td>Acqua Di Parma Arancia di Capri Fragrance Fami...</td>\n    </tr>\n    <tr>\n      <th>3</th>\n      <td>1417617</td>\n      <td>Acqua Di Parma</td>\n      <td>Perfume</td>\n      <td>Mirto di Panarea</td>\n      <td>2.5 oz/ 74 mL</td>\n      <td>4.5</td>\n      <td>23</td>\n      <td>2900</td>\n      <td>120.0</td>\n      <td>https://www.sephora.com/product/blu-mediterran...</td>\n      <td>Panarea near Sicily is an an island suspended ...</td>\n      <td>no instructions</td>\n      <td>unknown</td>\n      <td>Acqua Di Parma Mirto di Panarea Panarea near S...</td>\n    </tr>\n    <tr>\n      <th>4</th>\n      <td>2218766</td>\n      <td>Acqua Di Parma</td>\n      <td>Fragrance</td>\n      <td>Colonia Miniature Set</td>\n      <td>5 x 0.16oz/5mL</td>\n      <td>3.5</td>\n      <td>2</td>\n      <td>943</td>\n      <td>72.0</td>\n      <td>https://www.sephora.com/product/colonia-miniat...</td>\n      <td>The Colonia Miniature Set comes in an iconic A...</td>\n      <td>Suggested Usage:-Fragrance is intensified by t...</td>\n      <td>Colonia: Alcohol Denat.- Water- Fragrance- Lim...</td>\n      <td>Acqua Di Parma Colonia Miniature Set The Colon...</td>\n    </tr>\n  </tbody>\n</table>\n</div>"
     },
     "metadata": {},
     "execution_count": 44
    }
   ],
   "source": [
    "df.head()"
   ]
  },
  {
   "cell_type": "code",
   "execution_count": 45,
   "metadata": {},
   "outputs": [
    {
     "output_type": "execute_result",
     "data": {
      "text/plain": [
       "Index(['id', 'brand', 'category', 'name', 'size', 'rating',\n",
       "       'number_of_reviews', 'love', 'price', 'URL', 'details', 'how_to_use',\n",
       "       'ingredients', 'body'],\n",
       "      dtype='object')"
      ]
     },
     "metadata": {},
     "execution_count": 45
    }
   ],
   "source": [
    "df.columns"
   ]
  },
  {
   "cell_type": "code",
   "execution_count": 5,
   "metadata": {},
   "outputs": [],
   "source": [
    "select = ['id', 'brand', 'category', 'name', 'size', 'rating',\n",
    "       'number_of_reviews', 'love', 'price', 'URL', 'details',\n",
    "       'how_to_use', 'ingredients']\n",
    "df = df[select]"
   ]
  },
  {
   "cell_type": "code",
   "execution_count": 6,
   "metadata": {},
   "outputs": [],
   "source": [
    "df[\"body\"] = (df.brand + \" \" + df.name + \" \"+ df.details +\" \"+ df.how_to_use)"
   ]
  },
  {
   "cell_type": "code",
   "execution_count": 8,
   "metadata": {},
   "outputs": [
    {
     "output_type": "execute_result",
     "data": {
      "text/plain": [
       "        id           brand   category                            name  \\\n",
       "0  2218774  Acqua Di Parma  Fragrance  Blu Mediterraneo MINIATURE Set   \n",
       "1  2044816  Acqua Di Parma    Cologne                         Colonia   \n",
       "2  1417567  Acqua Di Parma    Perfume                Arancia di Capri   \n",
       "3  1417617  Acqua Di Parma    Perfume                Mirto di Panarea   \n",
       "4  2218766  Acqua Di Parma  Fragrance           Colonia Miniature Set   \n",
       "\n",
       "             size  rating  number_of_reviews  love  price  \\\n",
       "0  5 x 0.16oz/5mL     4.0                  4  3002   66.0   \n",
       "1   0.7 oz/ 20 mL     4.5                 76  2700   66.0   \n",
       "2    5 oz/ 148 mL     4.5                 26  2600  180.0   \n",
       "3   2.5 oz/ 74 mL     4.5                 23  2900  120.0   \n",
       "4  5 x 0.16oz/5mL     3.5                  2   943   72.0   \n",
       "\n",
       "                                                 URL  \\\n",
       "0  https://www.sephora.com/product/blu-mediterran...   \n",
       "1  https://www.sephora.com/product/colonia-P16360...   \n",
       "2  https://www.sephora.com/product/blu-mediterran...   \n",
       "3  https://www.sephora.com/product/blu-mediterran...   \n",
       "4  https://www.sephora.com/product/colonia-miniat...   \n",
       "\n",
       "                                             details  \\\n",
       "0  This enchanting set comes in a specially handc...   \n",
       "1  An elegant timeless scent filled with a fresh-...   \n",
       "2  Fragrance Family: Fresh Scent Type: Fresh Citr...   \n",
       "3  Panarea near Sicily is an an island suspended ...   \n",
       "4  The Colonia Miniature Set comes in an iconic A...   \n",
       "\n",
       "                                          how_to_use  \\\n",
       "0  Suggested Usage:-Fragrance is intensified by t...   \n",
       "1                                    no instructions   \n",
       "2                                    no instructions   \n",
       "3                                    no instructions   \n",
       "4  Suggested Usage:-Fragrance is intensified by t...   \n",
       "\n",
       "                                         ingredients  \\\n",
       "0  Arancia di Capri Eau de Toilette: Alcohol Dena...   \n",
       "1                                            unknown   \n",
       "2  Alcohol Denat.- Water- Fragrance- Limonene- Li...   \n",
       "3                                            unknown   \n",
       "4  Colonia: Alcohol Denat.- Water- Fragrance- Lim...   \n",
       "\n",
       "                                                body  \n",
       "0  Acqua Di Parma Blu Mediterraneo MINIATURE Set ...  \n",
       "1  Acqua Di Parma Colonia An elegant timeless sce...  \n",
       "2  Acqua Di Parma Arancia di Capri Fragrance Fami...  \n",
       "3  Acqua Di Parma Mirto di Panarea Panarea near S...  \n",
       "4  Acqua Di Parma Colonia Miniature Set The Colon...  "
      ],
      "text/html": "<div>\n<style scoped>\n    .dataframe tbody tr th:only-of-type {\n        vertical-align: middle;\n    }\n\n    .dataframe tbody tr th {\n        vertical-align: top;\n    }\n\n    .dataframe thead th {\n        text-align: right;\n    }\n</style>\n<table border=\"1\" class=\"dataframe\">\n  <thead>\n    <tr style=\"text-align: right;\">\n      <th></th>\n      <th>id</th>\n      <th>brand</th>\n      <th>category</th>\n      <th>name</th>\n      <th>size</th>\n      <th>rating</th>\n      <th>number_of_reviews</th>\n      <th>love</th>\n      <th>price</th>\n      <th>URL</th>\n      <th>details</th>\n      <th>how_to_use</th>\n      <th>ingredients</th>\n      <th>body</th>\n    </tr>\n  </thead>\n  <tbody>\n    <tr>\n      <th>0</th>\n      <td>2218774</td>\n      <td>Acqua Di Parma</td>\n      <td>Fragrance</td>\n      <td>Blu Mediterraneo MINIATURE Set</td>\n      <td>5 x 0.16oz/5mL</td>\n      <td>4.0</td>\n      <td>4</td>\n      <td>3002</td>\n      <td>66.0</td>\n      <td>https://www.sephora.com/product/blu-mediterran...</td>\n      <td>This enchanting set comes in a specially handc...</td>\n      <td>Suggested Usage:-Fragrance is intensified by t...</td>\n      <td>Arancia di Capri Eau de Toilette: Alcohol Dena...</td>\n      <td>Acqua Di Parma Blu Mediterraneo MINIATURE Set ...</td>\n    </tr>\n    <tr>\n      <th>1</th>\n      <td>2044816</td>\n      <td>Acqua Di Parma</td>\n      <td>Cologne</td>\n      <td>Colonia</td>\n      <td>0.7 oz/ 20 mL</td>\n      <td>4.5</td>\n      <td>76</td>\n      <td>2700</td>\n      <td>66.0</td>\n      <td>https://www.sephora.com/product/colonia-P16360...</td>\n      <td>An elegant timeless scent filled with a fresh-...</td>\n      <td>no instructions</td>\n      <td>unknown</td>\n      <td>Acqua Di Parma Colonia An elegant timeless sce...</td>\n    </tr>\n    <tr>\n      <th>2</th>\n      <td>1417567</td>\n      <td>Acqua Di Parma</td>\n      <td>Perfume</td>\n      <td>Arancia di Capri</td>\n      <td>5 oz/ 148 mL</td>\n      <td>4.5</td>\n      <td>26</td>\n      <td>2600</td>\n      <td>180.0</td>\n      <td>https://www.sephora.com/product/blu-mediterran...</td>\n      <td>Fragrance Family: Fresh Scent Type: Fresh Citr...</td>\n      <td>no instructions</td>\n      <td>Alcohol Denat.- Water- Fragrance- Limonene- Li...</td>\n      <td>Acqua Di Parma Arancia di Capri Fragrance Fami...</td>\n    </tr>\n    <tr>\n      <th>3</th>\n      <td>1417617</td>\n      <td>Acqua Di Parma</td>\n      <td>Perfume</td>\n      <td>Mirto di Panarea</td>\n      <td>2.5 oz/ 74 mL</td>\n      <td>4.5</td>\n      <td>23</td>\n      <td>2900</td>\n      <td>120.0</td>\n      <td>https://www.sephora.com/product/blu-mediterran...</td>\n      <td>Panarea near Sicily is an an island suspended ...</td>\n      <td>no instructions</td>\n      <td>unknown</td>\n      <td>Acqua Di Parma Mirto di Panarea Panarea near S...</td>\n    </tr>\n    <tr>\n      <th>4</th>\n      <td>2218766</td>\n      <td>Acqua Di Parma</td>\n      <td>Fragrance</td>\n      <td>Colonia Miniature Set</td>\n      <td>5 x 0.16oz/5mL</td>\n      <td>3.5</td>\n      <td>2</td>\n      <td>943</td>\n      <td>72.0</td>\n      <td>https://www.sephora.com/product/colonia-miniat...</td>\n      <td>The Colonia Miniature Set comes in an iconic A...</td>\n      <td>Suggested Usage:-Fragrance is intensified by t...</td>\n      <td>Colonia: Alcohol Denat.- Water- Fragrance- Lim...</td>\n      <td>Acqua Di Parma Colonia Miniature Set The Colon...</td>\n    </tr>\n  </tbody>\n</table>\n</div>"
     },
     "metadata": {},
     "execution_count": 8
    }
   ],
   "source": [
    "df.head()"
   ]
  },
  {
   "cell_type": "code",
   "execution_count": 57,
   "metadata": {},
   "outputs": [
    {
     "output_type": "execute_result",
     "data": {
      "text/plain": [
       "array(['Fragrance', 'Cologne', 'Perfume', 'Body Mist & Hair Mist',\n",
       "       'Body Lotions & Body Oils', 'Body Sprays & Deodorant',\n",
       "       'Perfume Gift Sets', 'no category', 'Rollerballs & Travel Size',\n",
       "       'Lip Balm & Treatment', 'Lotions & Oils', 'Eye Palettes',\n",
       "       'Highlighter', 'Cheek Palettes', 'Lipstick', 'Face Serums',\n",
       "       'Moisturizers', 'Value & Gift Sets', 'Eye Creams & Treatments',\n",
       "       'Face Sunscreen', 'Lip Balms & Treatments', 'Mini Size',\n",
       "       'Face Masks', 'Face Wash & Cleansers', 'Decollete & Neck Creams',\n",
       "       'Face Oils', 'Hand Cream & Foot Cream', 'Face Primer',\n",
       "       'Color Correct', 'Mists & Essences', 'Tinted Moisturizer',\n",
       "       'Concealer', 'Beauty Supplements', 'Facial Peels', 'Exfoliators',\n",
       "       'Conditioner', 'Shampoo', 'Hair Styling Products',\n",
       "       'Scalp & Hair Treatments', 'Hair Masks', 'Hair Spray', 'Hair Oil',\n",
       "       'Hair Primers', 'Dry Shampoo', 'Hair', 'Hair Thinning & Hair Loss',\n",
       "       'Hair Straighteners & Flat Irons', 'Hair Dryers', 'Color Care',\n",
       "       'Curling Irons', 'BB & CC Cream', 'Toners', 'Sheet Masks',\n",
       "       'Skincare', 'Body Sunscreen', 'Eyebrow', 'Mascara', 'Foundation',\n",
       "       'Eye Brushes', 'Setting Spray & Powder', 'Contour',\n",
       "       'Tweezers & Eyebrow Tools', 'Eyeshadow', 'Lip Gloss',\n",
       "       'False Eyelashes', 'Bronzer', 'Eyeliner', 'Eye Primer', 'Eye Sets',\n",
       "       'Face Brushes', 'Sponges & Applicators', 'Mirrors & Sharpeners',\n",
       "       'Face Wash', 'Body Products', 'Skincare Sets', 'Shaving',\n",
       "       'Moisturizer & Treatments', 'Aftershave', 'Eye Cream', 'Sunscreen',\n",
       "       'Blush', 'Hair Accessories', 'Liquid Lipstick', 'Makeup',\n",
       "       'Bath & Shower', 'Cologne Gift Sets', 'Brush Sets',\n",
       "       'Brush Cleaners', 'Lip Brushes', 'Candles & Home Scents',\n",
       "       'Face Sets', 'Lip Liner', 'Anti-Aging', 'Facial Rollers',\n",
       "       'Eye Masks', 'Face Wipes', 'Makeup & Travel Cases', 'Night Creams',\n",
       "       'Lip Stain', 'Lip Sets', 'Hair Brushes & Combs',\n",
       "       'Deodorant & Antiperspirant', 'Holistic Wellness',\n",
       "       'Makeup Removers', 'Blotting Papers', 'Blemish & Acne Treatments',\n",
       "       'Leave-In Conditioner', 'Candles', 'Scrub & Exfoliants',\n",
       "       'Cellulite & Stretch Marks', 'Nail', 'Hair Styling & Treatments',\n",
       "       'Lip Plumper', 'For Face', 'For Body', 'Self Tanners',\n",
       "       'Facial Cleansing Brushes', 'Cleansing Brushes', 'BB & CC Creams',\n",
       "       'Curls & Coils', 'Makeup Palettes', 'Eyelash Curlers',\n",
       "       'Body Wash & Shower Gel', 'Makeup Bags & Travel Cases',\n",
       "       'Teeth Whitening', 'Bath Soaks & Bubble Bath', 'High Tech Tools',\n",
       "       'Shampoo & Conditioner', 'Bath & Body', 'Hair Products',\n",
       "       'Diffusers', 'Deodorant for Men', 'After Sun Care',\n",
       "       'Lip Sunscreen', 'Wellness', 'Hair Removal', 'Spa Tools',\n",
       "       'Accessories', 'Body Moisturizers', 'Hair Removal & Shaving',\n",
       "       'Lip Treatments', 'Powder Brush', 'Lid Shadow Brush'], dtype=object)"
      ]
     },
     "metadata": {},
     "execution_count": 57
    }
   ],
   "source": [
    "df.category.unique()"
   ]
  },
  {
   "cell_type": "code",
   "execution_count": 11,
   "metadata": {},
   "outputs": [],
   "source": [
    "es = Elasticsearch()"
   ]
  },
  {
   "cell_type": "code",
   "execution_count": 21,
   "metadata": {},
   "outputs": [],
   "source": [
    "def get_prod_info(df, i):\n",
    "    content = {\"brand\": df.iloc[i].brand,\n",
    "            \"category\": df.iloc[i].category,\n",
    "            \"name\": df.iloc[i][\"name\"],\n",
    "            \"rating\": df.iloc[i].rating,\n",
    "            \"love\": df.iloc[i].love,\n",
    "            \"price\": df.iloc[i].price,\n",
    "            \"url\": df.iloc[i].URL,\n",
    "            \"details\": df.iloc[i].details,\n",
    "            \"details_combo\": df.iloc[i].body,\n",
    "            \"ingredients\": df.iloc[i].ingredients}\n",
    "    return content"
   ]
  },
  {
   "cell_type": "code",
   "execution_count": 46,
   "metadata": {},
   "outputs": [],
   "source": [
    "def index_sephora(es):\n",
    "    if es.indices.exists(index='sephora'):\n",
    "        res = \"Index 'sephora' already exists, skip indexing.\"\n",
    "        print(res)\n",
    "        return res\n",
    "    print(\"Loading data...\")    \n",
    "    df = df = load_data(\"./data/sephora_website_dataset.csv\")\n",
    "\n",
    "    print(\"Indexing sephora ...\")\n",
    "    for i in range(df.shape[0]):\n",
    "        product_id = df.iloc[i].id\n",
    "        content = get_prod_info(df, i)\n",
    "        es.index(index='sephora', id=product_id, body=content)\n",
    "    res = \"Indexing completed.\"\n",
    "    print(res)\n",
    "    return res\n",
    "        "
   ]
  },
  {
   "cell_type": "code",
   "execution_count": 47,
   "metadata": {},
   "outputs": [
    {
     "output_type": "stream",
     "name": "stdout",
     "text": [
      "Index 'sephora' already exists, skip indexing.\n"
     ]
    },
    {
     "output_type": "execute_result",
     "data": {
      "text/plain": [
       "\"Index 'sephora' already exists, skip indexing.\""
      ]
     },
     "metadata": {},
     "execution_count": 47
    }
   ],
   "source": [
    "index_sephora(es)"
   ]
  },
  {
   "cell_type": "code",
   "execution_count": 39,
   "metadata": {},
   "outputs": [],
   "source": [
    "t = df.iloc[120].ingredients"
   ]
  },
  {
   "cell_type": "code",
   "execution_count": 42,
   "metadata": {},
   "outputs": [
    {
     "output_type": "execute_result",
     "data": {
      "text/plain": [
       "'https://www.sephora.com/product/liquid-gold-ultimate-perfecting-mask-P442547?icid2=products grid:p442547'"
      ]
     },
     "metadata": {},
     "execution_count": 42
    }
   ],
   "source": [
    "df.iloc[120].URL"
   ]
  },
  {
   "cell_type": "code",
   "execution_count": 70,
   "metadata": {},
   "outputs": [
    {
     "output_type": "execute_result",
     "data": {
      "text/plain": [
       "{'acknowledged': True}"
      ]
     },
     "metadata": {},
     "execution_count": 70
    }
   ],
   "source": [
    "# es.indices.delete(index=\"sephora\")\n",
    "es.indices.exists(index='sephora')"
   ]
  },
  {
   "cell_type": "code",
   "execution_count": 48,
   "metadata": {},
   "outputs": [],
   "source": [
    "res = es.get(index=\"sephora\", id=1988716)\n",
    "source = res[\"_source\"]\n",
    "# source"
   ]
  },
  {
   "cell_type": "code",
   "execution_count": 49,
   "metadata": {},
   "outputs": [],
   "source": [
    "def search_query(es, query, size, param):\n",
    "    body = {\n",
    "        \"from\":0,\n",
    "        \"size\": size,\n",
    "        \"query\": {\n",
    "            \"match\": {\n",
    "                param:query\n",
    "            }\n",
    "        }\n",
    "    }\n",
    "\n",
    "    res = es.search(index=\"sephora\", body=body)\n",
    "    print(\"Top\", size, \"results for query:\", query[:100] )\n",
    "    ids, scores = [], []\n",
    "    for hit in res['hits']['hits']:\n",
    "        i, score = hit['_id'], hit['_score']\n",
    "        ids.append(i)\n",
    "        scores.append(score)\n",
    "\n",
    "        source = es.get(index=\"sephora\", id=i)['_source']\n",
    "        title = source['brand'] + \" | \" + source['name']\n",
    "        \n",
    "        print(i, score, title, sep=\"\\t\")\n",
    "        \n",
    "    return ids, scores"
   ]
  },
  {
   "cell_type": "code",
   "execution_count": 51,
   "metadata": {},
   "outputs": [
    {
     "output_type": "stream",
     "name": "stdout",
     "text": [
      "Top 10 results for query: skincare for dry skin\n1988716\t5.668924\tKiehl's Since 1851 | Cucumber Herbal Alcohol-Free Toner\n534529\t5.277257\tLancôme | Tonique Confort Re-Hydrating Comforting Toner with Acacia Honey\n1971274\t5.1358624\tLancôme | Hydra Zen Anti-Stress Moisturizing Face Cream\n1780899\t5.1352315\tBobbi Brown | Skin Nourish Coral Grass & Green Algae Moisture Face Mask\n2086999\t5.1173377\tSEPHORA COLLECTION | Banana Cream Mask - Nourshing\n2250603\t5.0641694\tLaura Mercier | Tinted Moisturizer Natural Skin Perfector Broad Spectrum SPF 30\n1988682\t5.0339117\tKiehl's Since 1851 | Calendula Herbal Extract Alcohol Free Toner\n2172575\t5.0140467\tKiehl's Since 1851 | Healthy Skin Squad\n2306389\t5.011968\tLaura Mercier | Tinted Moisturizer Natural Skin Perfector Broad Spectrum SPF 30 Mini\n2009256\t5.000274\tShiseido | Future Solution LX Extra Rich Cleansing Foam\n"
     ]
    }
   ],
   "source": [
    "query = \"skincare for dry skin\"\n",
    "ids, scores = search_query(es, query, 10, \"details\")"
   ]
  },
  {
   "cell_type": "code",
   "execution_count": 52,
   "metadata": {},
   "outputs": [],
   "source": [
    "kiehls = df[df.id==1988716].ingredients.values[0]"
   ]
  },
  {
   "cell_type": "code",
   "execution_count": 54,
   "metadata": {
    "tags": []
   },
   "outputs": [
    {
     "output_type": "stream",
     "name": "stdout",
     "text": [
      "Top 10 results for query: -Cucumber Extract and Allantoin: Soothes sensitive skin.  Aqua/Water- Pentylene Glycol- Phenoxyethan\n1988716\t196.04395\tKiehl's Since 1851 | Cucumber Herbal Alcohol-Free Toner\n1560879\t96.95177\tPeter Thomas Roth | Cucumber Gel Mask Extreme Detoxifying Hydrator\n1863117\t92.19874\tPeter Thomas Roth | Cucumber De-Tox™ Hydra-Gel Eye Patches\n2185049\t82.61083\tMario Badescu | Facial Spray with Aloe, Cucumber and Green Tea\n2185031\t82.61083\tMario Badescu | Facial Spray with Aloe, Cucumber and Green Tea Mini\n2239978\t82.57647\tPeter Thomas Roth | The A-List Kit\n2322709\t78.55332\tPeter Thomas Roth | Hydration Sensation\n1388859\t78.28665\tNARS | Gentle Oil-Free Eye Makeup Remover\n2273555\t76.87535\tPeter Thomas Roth | Mix, Mask & Hydrate\n2213718\t76.57785\tIT Cosmetics | Confidence In A Cream Rosy Tone\n"
     ]
    }
   ],
   "source": [
    "ids, scores = search_query(es, bkiehls, 10, \"ingredients\")\n"
   ]
  },
  {
   "cell_type": "code",
   "execution_count": 36,
   "metadata": {},
   "outputs": [
    {
     "output_type": "execute_result",
     "data": {
      "text/plain": [
       "'8.4 oz/ 250 mL'"
      ]
     },
     "metadata": {},
     "execution_count": 36
    }
   ],
   "source": [
    "df[df.id==1988716][\"size\"].values[0]"
   ]
  },
  {
   "source": [
    "### Highlight Search Results\n",
    "\n",
    "Example"
   ],
   "cell_type": "markdown",
   "metadata": {}
  },
  {
   "cell_type": "code",
   "execution_count": 57,
   "metadata": {},
   "outputs": [],
   "source": [
    "body = {\n",
    "    \"query\" : {\n",
    "        \"match\": { \"name\": \"la mer\" }\n",
    "    },\n",
    "    \"highlight\" : {\n",
    "        \"pre_tags\" : [\"<b>\"],\n",
    "        \"post_tags\" : [\"</b>\"],\n",
    "        \"fields\" : {\n",
    "            \"name\" : {}\n",
    "        }\n",
    "    }\n",
    "}\n",
    "res = es.search(index=\"sephora\", body=body)"
   ]
  },
  {
   "cell_type": "code",
   "execution_count": 71,
   "metadata": {},
   "outputs": [
    {
     "output_type": "execute_result",
     "data": {
      "text/plain": [
       "dict_keys(['_index', '_type', '_id', '_score', '_source', 'highlight'])"
      ]
     },
     "metadata": {},
     "execution_count": 71
    }
   ],
   "source": [
    "res['hits']['hits'][0].keys()"
   ]
  },
  {
   "cell_type": "code",
   "execution_count": 73,
   "metadata": {},
   "outputs": [
    {
     "output_type": "stream",
     "name": "stdout",
     "text": [
      "Top 10 results for query: dry skin moisturizer\n1866706\t6.394508\tTOM FORD | Oil-Free Daily Moisturizer\n882506\t6.17793\tCLINIQUE | Broad Spectrum SPF 21 Moisturizer\n1774850\t6.161938\tCLINIQUE | Smart Broad Spectrum SPF 15 Custom-Repair Moisturizer for Very Dry to Dry Skin\n1718295\t6.030481\tCLINIQUE | Smart Night Custom-Repair Moisturizer - Very Dry to Dry\n2111763\t6.0123186\tKiehl's Since 1851 | Facial Fuel Energizing Moisturizer for Men Mini\n2049286\t5.9872584\tGlow Recipe | Watermelon Pink Juice Oil-Free Moisturizer\n2113132\t5.9872584\tGlow Recipe | Watermelon Pink Juice Oil-Free Moisturizer Mini\n2028470\t5.9048977\tphilosophy | Purity Made Simple Ultra-Light Moisturizer\n1580802\t5.833033\tCLINIQUE | Oil Control Mattifying Moisturizer\n1718253\t5.8169413\tCLINIQUE | Repairwear Laser Focus Line Smoothing Cream Broad Spectrum SPF 15 for Very Dry to Dry Combination Skin\n"
     ]
    }
   ],
   "source": [
    "def search_query(es, query, size, field):\n",
    "    body = {\n",
    "        \"from\":0,\n",
    "        \"size\": size,\n",
    "        \"query\" : {\n",
    "            \"match\": { field: query }\n",
    "        },\n",
    "        \"highlight\" : {\n",
    "            \"pre_tags\" : [\"<mark>\"],\n",
    "            \"post_tags\" : [\"</mark>\"],\n",
    "            \"fields\" : {\n",
    "                field : {}\n",
    "            }\n",
    "        }\n",
    "    }\n",
    "\n",
    "    res = es.search(index=\"sephora\", body=body)\n",
    "    print(\"Top\", size, \"results for query:\", query[:100] )\n",
    "\n",
    "    for hit in res['hits']['hits']:\n",
    "        i, score = hit['_id'], hit['_score']\n",
    "        source = hit['_source']\n",
    "        title = source['brand'] + \" | \" + source['name']\n",
    "        \n",
    "        print(i, score, title, sep=\"\\t\")\n",
    "        \n",
    "    return res['hits']['hits']\n",
    "\n",
    "res = search_query(es, \"dry skin moisturizer\", 10, \"content\")"
   ]
  },
  {
   "cell_type": "code",
   "execution_count": 58,
   "metadata": {},
   "outputs": [
    {
     "output_type": "stream",
     "name": "stdout",
     "text": [
      "Top 10 results for query: Declustered Water (-)\\Aqua\\Eau De-Structuree (-), Methyl Gluceth-20, Glycereth-26, Laminaria Saccharina Extract, Algae (Seaweed) Extract, Sesamum Indicum (Sesame) Seed Oil, Medicago Sativa (Alfalfa) Seed Powder, Helianthus Annuus (Sunflower) Seedcake, Prunus Amygdalus Dulcis (Sweet Almond) Seed Meal, Eucalyptus Globulus (Eucalyptus) Leaf Oil, Sodium Gluconate, Copper Gluconate, Calcium Gluconate, Magnesium Gluconate, Zinc Gluconate, Tocopheryl Succinate, Niacin, Sesamum Indicum (Sesame) Seed Powder, Butylene Glycol, Ppg-28-Buteth-35, Ppg-5-Ceteth-20, Sodium Hyaluronate, Citric Acid, Sodium Citrate, Polysorbate 20, Sucrose, Caffeine, Disodium Edta, Benzophenone-4, Phenoxyethanol, Potassium Sorbate, Fragrance (Parfum), Linalool, Yellow 5 (Ci 19140), Red 33 (Ci 17200).\n1932383\t298.69925\tLa Mer | The Tonic\n1993815\t255.7589\tLa Mer | The Powder\n2237089\t241.04126\tLa Mer | The Fresh Renewal Collection\n1932391\t230.52519\tLa Mer | The Treatment Lotion\n2048957\t230.52519\tLa Mer | The Treatment Lotion Mini\n1932375\t229.37236\tLa Mer | The Cleansing Micellar Water\n1932359\t217.02327\tLa Mer | The Cleansing Gel\n1932367\t210.62914\tLa Mer | The Cleansing Foam\n2048932\t210.62914\tLa Mer | The Cleansing Foam Mini\n2132132\t206.69727\tLa Mer | Treatment Lotion Hydrating Mask\n"
     ]
    },
    {
     "output_type": "execute_result",
     "data": {
      "text/plain": [
       "(['1932383',\n",
       "  '1993815',\n",
       "  '2237089',\n",
       "  '1932391',\n",
       "  '2048957',\n",
       "  '1932375',\n",
       "  '1932359',\n",
       "  '1932367',\n",
       "  '2048932',\n",
       "  '2132132'],\n",
       " [298.69925,\n",
       "  255.7589,\n",
       "  241.04126,\n",
       "  230.52519,\n",
       "  230.52519,\n",
       "  229.37236,\n",
       "  217.02327,\n",
       "  210.62914,\n",
       "  210.62914,\n",
       "  206.69727])"
      ]
     },
     "metadata": {},
     "execution_count": 58
    }
   ],
   "source": [
    "lamer = \"Declustered Water (-)\\Aqua\\Eau De-Structuree (-), Methyl Gluceth-20, Glycereth-26, Laminaria Saccharina Extract, Algae (Seaweed) Extract, Sesamum Indicum (Sesame) Seed Oil, Medicago Sativa (Alfalfa) Seed Powder, Helianthus Annuus (Sunflower) Seedcake, Prunus Amygdalus Dulcis (Sweet Almond) Seed Meal, Eucalyptus Globulus (Eucalyptus) Leaf Oil, Sodium Gluconate, Copper Gluconate, Calcium Gluconate, Magnesium Gluconate, Zinc Gluconate, Tocopheryl Succinate, Niacin, Sesamum Indicum (Sesame) Seed Powder, Butylene Glycol, Ppg-28-Buteth-35, Ppg-5-Ceteth-20, Sodium Hyaluronate, Citric Acid, Sodium Citrate, Polysorbate 20, Sucrose, Caffeine, Disodium Edta, Benzophenone-4, Phenoxyethanol, Potassium Sorbate, Fragrance (Parfum), Linalool, Yellow 5 (Ci 19140), Red 33 (Ci 17200).\"\n",
    "search_query(lamer, 10, \"ingredients\")"
   ]
  },
  {
   "cell_type": "code",
   "execution_count": 43,
   "metadata": {},
   "outputs": [
    {
     "output_type": "error",
     "ename": "NameError",
     "evalue": "name 'search_query' is not defined",
     "traceback": [
      "\u001b[0;31m---------------------------------------------------------------------------\u001b[0m",
      "\u001b[0;31mNameError\u001b[0m                                 Traceback (most recent call last)",
      "\u001b[0;32m<ipython-input-43-66bb65eeee9f>\u001b[0m in \u001b[0;36m<module>\u001b[0;34m\u001b[0m\n\u001b[0;32m----> 1\u001b[0;31m \u001b[0msearch_query\u001b[0m\u001b[0;34m(\u001b[0m\u001b[0mlamer\u001b[0m\u001b[0;34m,\u001b[0m \u001b[0;36m10\u001b[0m\u001b[0;34m,\u001b[0m \u001b[0;34m\"details\"\u001b[0m\u001b[0;34m)\u001b[0m\u001b[0;34m\u001b[0m\u001b[0;34m\u001b[0m\u001b[0m\n\u001b[0m",
      "\u001b[0;31mNameError\u001b[0m: name 'search_query' is not defined"
     ]
    }
   ],
   "source": [
    "search_query(lamer, 10, \"details\")"
   ]
  },
  {
   "cell_type": "code",
   "execution_count": null,
   "metadata": {},
   "outputs": [],
   "source": []
  }
 ]
}